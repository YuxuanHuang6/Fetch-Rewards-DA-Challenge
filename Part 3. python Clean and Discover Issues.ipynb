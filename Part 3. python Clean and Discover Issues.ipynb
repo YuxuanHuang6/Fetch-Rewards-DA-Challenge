{
 "cells": [
  {
   "cell_type": "code",
   "execution_count": 2,
   "id": "7927f4ed",
   "metadata": {},
   "outputs": [],
   "source": [
    "import os\n",
    "import pandas as pd\n",
    "import numpy as np\n",
    "from datetime import datetime\n",
    "import unicodedata\n",
    "import matplotlib.pyplot as plt\n",
    "import seaborn as sns"
   ]
  },
  {
   "cell_type": "code",
   "execution_count": 72,
   "id": "25de88ed",
   "metadata": {},
   "outputs": [],
   "source": [
    "## Clean and Export Datasets"
   ]
  },
  {
   "cell_type": "code",
   "execution_count": 3,
   "id": "9a0e17df",
   "metadata": {
    "scrolled": true
   },
   "outputs": [
    {
     "data": {
      "text/html": [
       "<div>\n",
       "<style scoped>\n",
       "    .dataframe tbody tr th:only-of-type {\n",
       "        vertical-align: middle;\n",
       "    }\n",
       "\n",
       "    .dataframe tbody tr th {\n",
       "        vertical-align: top;\n",
       "    }\n",
       "\n",
       "    .dataframe thead th {\n",
       "        text-align: right;\n",
       "    }\n",
       "</style>\n",
       "<table border=\"1\" class=\"dataframe\">\n",
       "  <thead>\n",
       "    <tr style=\"text-align: right;\">\n",
       "      <th></th>\n",
       "      <th>brandId</th>\n",
       "      <th>barcode</th>\n",
       "      <th>category</th>\n",
       "      <th>categoryCode</th>\n",
       "      <th>cpg</th>\n",
       "      <th>name</th>\n",
       "      <th>topBrand</th>\n",
       "      <th>brandCode</th>\n",
       "      <th>oid</th>\n",
       "      <th>ref</th>\n",
       "    </tr>\n",
       "  </thead>\n",
       "  <tbody>\n",
       "    <tr>\n",
       "      <th>0</th>\n",
       "      <td>601ac115be37ce2ead437551</td>\n",
       "      <td>511111019862</td>\n",
       "      <td>Baking</td>\n",
       "      <td>BAKING</td>\n",
       "      <td>{'$id': {'$oid': '601ac114be37ce2ead437550'}, ...</td>\n",
       "      <td>test brand @1612366101024</td>\n",
       "      <td>0.0</td>\n",
       "      <td>NaN</td>\n",
       "      <td>601ac114be37ce2ead437550</td>\n",
       "      <td>Cogs</td>\n",
       "    </tr>\n",
       "    <tr>\n",
       "      <th>1</th>\n",
       "      <td>601c5460be37ce2ead43755f</td>\n",
       "      <td>511111519928</td>\n",
       "      <td>Beverages</td>\n",
       "      <td>BEVERAGES</td>\n",
       "      <td>{'$id': {'$oid': '5332f5fbe4b03c9a25efd0ba'}, ...</td>\n",
       "      <td>Starbucks</td>\n",
       "      <td>0.0</td>\n",
       "      <td>STARBUCKS</td>\n",
       "      <td>5332f5fbe4b03c9a25efd0ba</td>\n",
       "      <td>Cogs</td>\n",
       "    </tr>\n",
       "    <tr>\n",
       "      <th>2</th>\n",
       "      <td>601ac142be37ce2ead43755d</td>\n",
       "      <td>511111819905</td>\n",
       "      <td>Baking</td>\n",
       "      <td>BAKING</td>\n",
       "      <td>{'$id': {'$oid': '601ac142be37ce2ead437559'}, ...</td>\n",
       "      <td>test brand @1612366146176</td>\n",
       "      <td>0.0</td>\n",
       "      <td>TEST BRANDCODE @1612366146176</td>\n",
       "      <td>601ac142be37ce2ead437559</td>\n",
       "      <td>Cogs</td>\n",
       "    </tr>\n",
       "    <tr>\n",
       "      <th>3</th>\n",
       "      <td>601ac142be37ce2ead43755a</td>\n",
       "      <td>511111519874</td>\n",
       "      <td>Baking</td>\n",
       "      <td>BAKING</td>\n",
       "      <td>{'$id': {'$oid': '601ac142be37ce2ead437559'}, ...</td>\n",
       "      <td>test brand @1612366146051</td>\n",
       "      <td>0.0</td>\n",
       "      <td>TEST BRANDCODE @1612366146051</td>\n",
       "      <td>601ac142be37ce2ead437559</td>\n",
       "      <td>Cogs</td>\n",
       "    </tr>\n",
       "    <tr>\n",
       "      <th>4</th>\n",
       "      <td>601ac142be37ce2ead43755e</td>\n",
       "      <td>511111319917</td>\n",
       "      <td>Candy &amp; Sweets</td>\n",
       "      <td>CANDY_AND_SWEETS</td>\n",
       "      <td>{'$id': {'$oid': '5332fa12e4b03c9a25efd1e7'}, ...</td>\n",
       "      <td>test brand @1612366146827</td>\n",
       "      <td>0.0</td>\n",
       "      <td>TEST BRANDCODE @1612366146827</td>\n",
       "      <td>5332fa12e4b03c9a25efd1e7</td>\n",
       "      <td>Cogs</td>\n",
       "    </tr>\n",
       "  </tbody>\n",
       "</table>\n",
       "</div>"
      ],
      "text/plain": [
       "                    brandId       barcode        category      categoryCode  \\\n",
       "0  601ac115be37ce2ead437551  511111019862          Baking            BAKING   \n",
       "1  601c5460be37ce2ead43755f  511111519928       Beverages         BEVERAGES   \n",
       "2  601ac142be37ce2ead43755d  511111819905          Baking            BAKING   \n",
       "3  601ac142be37ce2ead43755a  511111519874          Baking            BAKING   \n",
       "4  601ac142be37ce2ead43755e  511111319917  Candy & Sweets  CANDY_AND_SWEETS   \n",
       "\n",
       "                                                 cpg  \\\n",
       "0  {'$id': {'$oid': '601ac114be37ce2ead437550'}, ...   \n",
       "1  {'$id': {'$oid': '5332f5fbe4b03c9a25efd0ba'}, ...   \n",
       "2  {'$id': {'$oid': '601ac142be37ce2ead437559'}, ...   \n",
       "3  {'$id': {'$oid': '601ac142be37ce2ead437559'}, ...   \n",
       "4  {'$id': {'$oid': '5332fa12e4b03c9a25efd1e7'}, ...   \n",
       "\n",
       "                        name  topBrand                      brandCode  \\\n",
       "0  test brand @1612366101024       0.0                            NaN   \n",
       "1                  Starbucks       0.0                      STARBUCKS   \n",
       "2  test brand @1612366146176       0.0  TEST BRANDCODE @1612366146176   \n",
       "3  test brand @1612366146051       0.0  TEST BRANDCODE @1612366146051   \n",
       "4  test brand @1612366146827       0.0  TEST BRANDCODE @1612366146827   \n",
       "\n",
       "                        oid   ref  \n",
       "0  601ac114be37ce2ead437550  Cogs  \n",
       "1  5332f5fbe4b03c9a25efd0ba  Cogs  \n",
       "2  601ac142be37ce2ead437559  Cogs  \n",
       "3  601ac142be37ce2ead437559  Cogs  \n",
       "4  5332fa12e4b03c9a25efd1e7  Cogs  "
      ]
     },
     "execution_count": 3,
     "metadata": {},
     "output_type": "execute_result"
    }
   ],
   "source": [
    "brands = pd.read_json('/Users/yuxuanhuang/Desktop/brands.json', lines=True)\n",
    "\n",
    "brands['_id'] = brands['_id'].apply(lambda x: list(x.values())[0])\n",
    "brands = brands.rename(columns={'_id':'brandId'})\n",
    "# brands = brands.rename(columns={'barcode':'productId'})\n",
    "brands['barcode'] = brands['barcode'].astype(str)\n",
    "\n",
    "cpg = brands[['brandId','cpg']].copy()\n",
    "cpg['oid'] = cpg['cpg'].apply(lambda x: list(x.values())[0] \n",
    "                              if len(list(x.values())[0]) != 4 \n",
    "                              else list(x.values())[1])\n",
    "cpg['oid'] = cpg['oid'].apply(lambda x: list(x.values())[0])\n",
    "cpg['ref'] = cpg['cpg'].apply(lambda x: list(x.values())[1] \n",
    "                              if len(list(x.values())[1]) == 4 \n",
    "                              else list(x.values())[0])\n",
    "cpg = cpg[['brandId','oid','ref']]\n",
    "brands = pd.merge(brands, cpg, how = 'left', on = 'brandId')\n",
    "brands.head(5)"
   ]
  },
  {
   "cell_type": "code",
   "execution_count": 5,
   "id": "b1aa7272",
   "metadata": {},
   "outputs": [],
   "source": [
    "def date(x):\n",
    "    if type(x) == float:\n",
    "        pass\n",
    "    else:\n",
    "        return(pd.to_datetime(list(x.values())[0], unit='ms'))"
   ]
  },
  {
   "cell_type": "code",
   "execution_count": 21,
   "id": "6e92b301",
   "metadata": {},
   "outputs": [],
   "source": []
  },
  {
   "cell_type": "code",
   "execution_count": 7,
   "id": "5b4a04d6",
   "metadata": {},
   "outputs": [
    {
     "data": {
      "text/html": [
       "<div>\n",
       "<style scoped>\n",
       "    .dataframe tbody tr th:only-of-type {\n",
       "        vertical-align: middle;\n",
       "    }\n",
       "\n",
       "    .dataframe tbody tr th {\n",
       "        vertical-align: top;\n",
       "    }\n",
       "\n",
       "    .dataframe thead th {\n",
       "        text-align: right;\n",
       "    }\n",
       "</style>\n",
       "<table border=\"1\" class=\"dataframe\">\n",
       "  <thead>\n",
       "    <tr style=\"text-align: right;\">\n",
       "      <th></th>\n",
       "      <th>receiptId</th>\n",
       "      <th>bonusPointsEarned</th>\n",
       "      <th>bonusPointsEarnedReason</th>\n",
       "      <th>createDate</th>\n",
       "      <th>dateScanned</th>\n",
       "      <th>finishedDate</th>\n",
       "      <th>modifyDate</th>\n",
       "      <th>pointsAwardedDate</th>\n",
       "      <th>pointsEarned</th>\n",
       "      <th>purchaseDate</th>\n",
       "      <th>purchasedItemCount</th>\n",
       "      <th>rewardsReceiptItemList</th>\n",
       "      <th>rewardsReceiptStatus</th>\n",
       "      <th>totalSpent</th>\n",
       "      <th>userId</th>\n",
       "    </tr>\n",
       "  </thead>\n",
       "  <tbody>\n",
       "    <tr>\n",
       "      <th>0</th>\n",
       "      <td>5ff1e1eb0a720f0523000575</td>\n",
       "      <td>500.0</td>\n",
       "      <td>Receipt number 2 completed, bonus point schedu...</td>\n",
       "      <td>2021-01-03 15:25:31</td>\n",
       "      <td>2021-01-03 15:25:31</td>\n",
       "      <td>2021-01-03 15:25:31</td>\n",
       "      <td>2021-01-03 15:25:36</td>\n",
       "      <td>2021-01-03 15:25:31</td>\n",
       "      <td>500.0</td>\n",
       "      <td>2021-01-03 00:00:00</td>\n",
       "      <td>5.0</td>\n",
       "      <td>[{'barcode': '4011', 'description': 'ITEM NOT ...</td>\n",
       "      <td>FINISHED</td>\n",
       "      <td>26.0</td>\n",
       "      <td>5ff1e1eacfcf6c399c274ae6</td>\n",
       "    </tr>\n",
       "    <tr>\n",
       "      <th>1</th>\n",
       "      <td>5ff1e1bb0a720f052300056b</td>\n",
       "      <td>150.0</td>\n",
       "      <td>Receipt number 5 completed, bonus point schedu...</td>\n",
       "      <td>2021-01-03 15:24:43</td>\n",
       "      <td>2021-01-03 15:24:43</td>\n",
       "      <td>2021-01-03 15:24:43</td>\n",
       "      <td>2021-01-03 15:24:48</td>\n",
       "      <td>2021-01-03 15:24:43</td>\n",
       "      <td>150.0</td>\n",
       "      <td>2021-01-02 15:24:43</td>\n",
       "      <td>2.0</td>\n",
       "      <td>[{'barcode': '4011', 'description': 'ITEM NOT ...</td>\n",
       "      <td>FINISHED</td>\n",
       "      <td>11.0</td>\n",
       "      <td>5ff1e194b6a9d73a3a9f1052</td>\n",
       "    </tr>\n",
       "    <tr>\n",
       "      <th>2</th>\n",
       "      <td>5ff1e1f10a720f052300057a</td>\n",
       "      <td>5.0</td>\n",
       "      <td>All-receipts receipt bonus</td>\n",
       "      <td>2021-01-03 15:25:37</td>\n",
       "      <td>2021-01-03 15:25:37</td>\n",
       "      <td>NaT</td>\n",
       "      <td>2021-01-03 15:25:42</td>\n",
       "      <td>NaT</td>\n",
       "      <td>5.0</td>\n",
       "      <td>2021-01-03 00:00:00</td>\n",
       "      <td>1.0</td>\n",
       "      <td>[{'needsFetchReview': False, 'partnerItemId': ...</td>\n",
       "      <td>REJECTED</td>\n",
       "      <td>10.0</td>\n",
       "      <td>5ff1e1f1cfcf6c399c274b0b</td>\n",
       "    </tr>\n",
       "    <tr>\n",
       "      <th>3</th>\n",
       "      <td>5ff1e1ee0a7214ada100056f</td>\n",
       "      <td>5.0</td>\n",
       "      <td>All-receipts receipt bonus</td>\n",
       "      <td>2021-01-03 15:25:34</td>\n",
       "      <td>2021-01-03 15:25:34</td>\n",
       "      <td>2021-01-03 15:25:34</td>\n",
       "      <td>2021-01-03 15:25:39</td>\n",
       "      <td>2021-01-03 15:25:34</td>\n",
       "      <td>5.0</td>\n",
       "      <td>2021-01-03 00:00:00</td>\n",
       "      <td>4.0</td>\n",
       "      <td>[{'barcode': '4011', 'description': 'ITEM NOT ...</td>\n",
       "      <td>FINISHED</td>\n",
       "      <td>28.0</td>\n",
       "      <td>5ff1e1eacfcf6c399c274ae6</td>\n",
       "    </tr>\n",
       "    <tr>\n",
       "      <th>4</th>\n",
       "      <td>5ff1e1d20a7214ada1000561</td>\n",
       "      <td>5.0</td>\n",
       "      <td>All-receipts receipt bonus</td>\n",
       "      <td>2021-01-03 15:25:06</td>\n",
       "      <td>2021-01-03 15:25:06</td>\n",
       "      <td>2021-01-03 15:25:11</td>\n",
       "      <td>2021-01-03 15:25:11</td>\n",
       "      <td>2021-01-03 15:25:06</td>\n",
       "      <td>5.0</td>\n",
       "      <td>2021-01-02 15:25:06</td>\n",
       "      <td>2.0</td>\n",
       "      <td>[{'barcode': '4011', 'description': 'ITEM NOT ...</td>\n",
       "      <td>FINISHED</td>\n",
       "      <td>1.0</td>\n",
       "      <td>5ff1e194b6a9d73a3a9f1052</td>\n",
       "    </tr>\n",
       "  </tbody>\n",
       "</table>\n",
       "</div>"
      ],
      "text/plain": [
       "                  receiptId  bonusPointsEarned  \\\n",
       "0  5ff1e1eb0a720f0523000575              500.0   \n",
       "1  5ff1e1bb0a720f052300056b              150.0   \n",
       "2  5ff1e1f10a720f052300057a                5.0   \n",
       "3  5ff1e1ee0a7214ada100056f                5.0   \n",
       "4  5ff1e1d20a7214ada1000561                5.0   \n",
       "\n",
       "                             bonusPointsEarnedReason          createDate  \\\n",
       "0  Receipt number 2 completed, bonus point schedu... 2021-01-03 15:25:31   \n",
       "1  Receipt number 5 completed, bonus point schedu... 2021-01-03 15:24:43   \n",
       "2                         All-receipts receipt bonus 2021-01-03 15:25:37   \n",
       "3                         All-receipts receipt bonus 2021-01-03 15:25:34   \n",
       "4                         All-receipts receipt bonus 2021-01-03 15:25:06   \n",
       "\n",
       "          dateScanned        finishedDate          modifyDate  \\\n",
       "0 2021-01-03 15:25:31 2021-01-03 15:25:31 2021-01-03 15:25:36   \n",
       "1 2021-01-03 15:24:43 2021-01-03 15:24:43 2021-01-03 15:24:48   \n",
       "2 2021-01-03 15:25:37                 NaT 2021-01-03 15:25:42   \n",
       "3 2021-01-03 15:25:34 2021-01-03 15:25:34 2021-01-03 15:25:39   \n",
       "4 2021-01-03 15:25:06 2021-01-03 15:25:11 2021-01-03 15:25:11   \n",
       "\n",
       "    pointsAwardedDate  pointsEarned        purchaseDate  purchasedItemCount  \\\n",
       "0 2021-01-03 15:25:31         500.0 2021-01-03 00:00:00                 5.0   \n",
       "1 2021-01-03 15:24:43         150.0 2021-01-02 15:24:43                 2.0   \n",
       "2                 NaT           5.0 2021-01-03 00:00:00                 1.0   \n",
       "3 2021-01-03 15:25:34           5.0 2021-01-03 00:00:00                 4.0   \n",
       "4 2021-01-03 15:25:06           5.0 2021-01-02 15:25:06                 2.0   \n",
       "\n",
       "                              rewardsReceiptItemList rewardsReceiptStatus  \\\n",
       "0  [{'barcode': '4011', 'description': 'ITEM NOT ...             FINISHED   \n",
       "1  [{'barcode': '4011', 'description': 'ITEM NOT ...             FINISHED   \n",
       "2  [{'needsFetchReview': False, 'partnerItemId': ...             REJECTED   \n",
       "3  [{'barcode': '4011', 'description': 'ITEM NOT ...             FINISHED   \n",
       "4  [{'barcode': '4011', 'description': 'ITEM NOT ...             FINISHED   \n",
       "\n",
       "   totalSpent                    userId  \n",
       "0        26.0  5ff1e1eacfcf6c399c274ae6  \n",
       "1        11.0  5ff1e194b6a9d73a3a9f1052  \n",
       "2        10.0  5ff1e1f1cfcf6c399c274b0b  \n",
       "3        28.0  5ff1e1eacfcf6c399c274ae6  \n",
       "4         1.0  5ff1e194b6a9d73a3a9f1052  "
      ]
     },
     "execution_count": 7,
     "metadata": {},
     "output_type": "execute_result"
    }
   ],
   "source": [
    "receipts = pd.read_json(\"/Users/yuxuanhuang/Desktop/receipts.json\", lines=True)\n",
    "receipts['_id'] = receipts['_id'].apply(lambda x: list(x.values())[0])\n",
    "receipts = receipts.rename(columns={'_id':'receiptId'})\n",
    "receipts['createDate'] = receipts['createDate'].apply(lambda x: date(x))\n",
    "receipts['dateScanned'] = receipts['dateScanned'].apply(lambda x: date(x))\n",
    "receipts['finishedDate'] = receipts['finishedDate'].apply(lambda x: date(x))\n",
    "receipts['modifyDate'] = receipts['modifyDate'].apply(lambda x: date(x))\n",
    "receipts['pointsAwardedDate'] = receipts['pointsAwardedDate'].apply(lambda x: date(x))\n",
    "receipts['purchaseDate'] = receipts['purchaseDate'].apply(lambda x: date(x))\n",
    "receipts.head(5)"
   ]
  },
  {
   "cell_type": "code",
   "execution_count": null,
   "id": "ed92c509",
   "metadata": {},
   "outputs": [],
   "source": []
  },
  {
   "cell_type": "code",
   "execution_count": null,
   "id": "ccd0a7c8",
   "metadata": {},
   "outputs": [],
   "source": []
  },
  {
   "cell_type": "code",
   "execution_count": 8,
   "id": "f8f312dc",
   "metadata": {},
   "outputs": [
    {
     "data": {
      "text/html": [
       "<div>\n",
       "<style scoped>\n",
       "    .dataframe tbody tr th:only-of-type {\n",
       "        vertical-align: middle;\n",
       "    }\n",
       "\n",
       "    .dataframe tbody tr th {\n",
       "        vertical-align: top;\n",
       "    }\n",
       "\n",
       "    .dataframe thead th {\n",
       "        text-align: right;\n",
       "    }\n",
       "</style>\n",
       "<table border=\"1\" class=\"dataframe\">\n",
       "  <thead>\n",
       "    <tr style=\"text-align: right;\">\n",
       "      <th></th>\n",
       "      <th>userId</th>\n",
       "      <th>active</th>\n",
       "      <th>createdDate</th>\n",
       "      <th>lastLogin</th>\n",
       "      <th>role</th>\n",
       "      <th>signUpSource</th>\n",
       "      <th>state</th>\n",
       "    </tr>\n",
       "  </thead>\n",
       "  <tbody>\n",
       "    <tr>\n",
       "      <th>0</th>\n",
       "      <td>5ff1e194b6a9d73a3a9f1052</td>\n",
       "      <td>True</td>\n",
       "      <td>2021-01-03 15:24:04.800</td>\n",
       "      <td>2021-01-03 15:25:37.858</td>\n",
       "      <td>consumer</td>\n",
       "      <td>Email</td>\n",
       "      <td>WI</td>\n",
       "    </tr>\n",
       "    <tr>\n",
       "      <th>1</th>\n",
       "      <td>5ff1e194b6a9d73a3a9f1052</td>\n",
       "      <td>True</td>\n",
       "      <td>2021-01-03 15:24:04.800</td>\n",
       "      <td>2021-01-03 15:25:37.858</td>\n",
       "      <td>consumer</td>\n",
       "      <td>Email</td>\n",
       "      <td>WI</td>\n",
       "    </tr>\n",
       "    <tr>\n",
       "      <th>2</th>\n",
       "      <td>5ff1e194b6a9d73a3a9f1052</td>\n",
       "      <td>True</td>\n",
       "      <td>2021-01-03 15:24:04.800</td>\n",
       "      <td>2021-01-03 15:25:37.858</td>\n",
       "      <td>consumer</td>\n",
       "      <td>Email</td>\n",
       "      <td>WI</td>\n",
       "    </tr>\n",
       "    <tr>\n",
       "      <th>3</th>\n",
       "      <td>5ff1e1eacfcf6c399c274ae6</td>\n",
       "      <td>True</td>\n",
       "      <td>2021-01-03 15:25:30.554</td>\n",
       "      <td>2021-01-03 15:25:30.597</td>\n",
       "      <td>consumer</td>\n",
       "      <td>Email</td>\n",
       "      <td>WI</td>\n",
       "    </tr>\n",
       "    <tr>\n",
       "      <th>4</th>\n",
       "      <td>5ff1e194b6a9d73a3a9f1052</td>\n",
       "      <td>True</td>\n",
       "      <td>2021-01-03 15:24:04.800</td>\n",
       "      <td>2021-01-03 15:25:37.858</td>\n",
       "      <td>consumer</td>\n",
       "      <td>Email</td>\n",
       "      <td>WI</td>\n",
       "    </tr>\n",
       "  </tbody>\n",
       "</table>\n",
       "</div>"
      ],
      "text/plain": [
       "                     userId  active             createdDate  \\\n",
       "0  5ff1e194b6a9d73a3a9f1052    True 2021-01-03 15:24:04.800   \n",
       "1  5ff1e194b6a9d73a3a9f1052    True 2021-01-03 15:24:04.800   \n",
       "2  5ff1e194b6a9d73a3a9f1052    True 2021-01-03 15:24:04.800   \n",
       "3  5ff1e1eacfcf6c399c274ae6    True 2021-01-03 15:25:30.554   \n",
       "4  5ff1e194b6a9d73a3a9f1052    True 2021-01-03 15:24:04.800   \n",
       "\n",
       "                lastLogin      role signUpSource state  \n",
       "0 2021-01-03 15:25:37.858  consumer        Email    WI  \n",
       "1 2021-01-03 15:25:37.858  consumer        Email    WI  \n",
       "2 2021-01-03 15:25:37.858  consumer        Email    WI  \n",
       "3 2021-01-03 15:25:30.597  consumer        Email    WI  \n",
       "4 2021-01-03 15:25:37.858  consumer        Email    WI  "
      ]
     },
     "execution_count": 8,
     "metadata": {},
     "output_type": "execute_result"
    }
   ],
   "source": [
    "users = pd.read_json(\"/Users/yuxuanhuang/Desktop/users.json\", lines=True)\n",
    "users['_id'] = users['_id'].apply(lambda x: list(x.values())[0])\n",
    "users['createdDate'] = users['createdDate'].apply(lambda x: date(x))\n",
    "users['lastLogin'] = users['lastLogin'].apply(lambda x: date(x))\n",
    "users = users.rename(columns={'_id':'userId'})\n",
    "users.head(5)"
   ]
  },
  {
   "cell_type": "code",
   "execution_count": null,
   "id": "c7187350",
   "metadata": {},
   "outputs": [],
   "source": []
  },
  {
   "cell_type": "code",
   "execution_count": 9,
   "id": "3b622ef6",
   "metadata": {},
   "outputs": [],
   "source": [
    "def explode(df,col):\n",
    "    df[col] = df[col].apply(lambda x: [x] if not isinstance(x, list) else x)\n",
    "    return df.drop(col, axis=1).join(pd.DataFrame(list(df[col])).stack().reset_index(level=1, drop=True).rename(col))"
   ]
  },
  {
   "cell_type": "code",
   "execution_count": 10,
   "id": "f7ebb446",
   "metadata": {},
   "outputs": [],
   "source": [
    "def explode1(x,key):\n",
    "    if type(x) == dict and key in x.keys():\n",
    "        return x[key]"
   ]
  },
  {
   "cell_type": "code",
   "execution_count": 11,
   "id": "d3388bbd",
   "metadata": {},
   "outputs": [
    {
     "data": {
      "text/html": [
       "<div>\n",
       "<style scoped>\n",
       "    .dataframe tbody tr th:only-of-type {\n",
       "        vertical-align: middle;\n",
       "    }\n",
       "\n",
       "    .dataframe tbody tr th {\n",
       "        vertical-align: top;\n",
       "    }\n",
       "\n",
       "    .dataframe thead th {\n",
       "        text-align: right;\n",
       "    }\n",
       "</style>\n",
       "<table border=\"1\" class=\"dataframe\">\n",
       "  <thead>\n",
       "    <tr style=\"text-align: right;\">\n",
       "      <th></th>\n",
       "      <th>group</th>\n",
       "      <th>receiptId</th>\n",
       "      <th>userId</th>\n",
       "      <th>rewardsReceiptItemList</th>\n",
       "    </tr>\n",
       "  </thead>\n",
       "  <tbody>\n",
       "    <tr>\n",
       "      <th>0</th>\n",
       "      <td>0</td>\n",
       "      <td>5ff1e1eb0a720f0523000575</td>\n",
       "      <td>5ff1e1eacfcf6c399c274ae6</td>\n",
       "      <td>{'barcode': '4011', 'description': 'ITEM NOT F...</td>\n",
       "    </tr>\n",
       "    <tr>\n",
       "      <th>1</th>\n",
       "      <td>1</td>\n",
       "      <td>5ff1e1bb0a720f052300056b</td>\n",
       "      <td>5ff1e194b6a9d73a3a9f1052</td>\n",
       "      <td>{'barcode': '4011', 'description': 'ITEM NOT F...</td>\n",
       "    </tr>\n",
       "    <tr>\n",
       "      <th>2</th>\n",
       "      <td>1</td>\n",
       "      <td>5ff1e1bb0a720f052300056b</td>\n",
       "      <td>5ff1e194b6a9d73a3a9f1052</td>\n",
       "      <td>{'barcode': '028400642255', 'description': 'DO...</td>\n",
       "    </tr>\n",
       "    <tr>\n",
       "      <th>3</th>\n",
       "      <td>2</td>\n",
       "      <td>5ff1e1f10a720f052300057a</td>\n",
       "      <td>5ff1e1f1cfcf6c399c274b0b</td>\n",
       "      <td>{'needsFetchReview': False, 'partnerItemId': '...</td>\n",
       "    </tr>\n",
       "    <tr>\n",
       "      <th>4</th>\n",
       "      <td>3</td>\n",
       "      <td>5ff1e1ee0a7214ada100056f</td>\n",
       "      <td>5ff1e1eacfcf6c399c274ae6</td>\n",
       "      <td>{'barcode': '4011', 'description': 'ITEM NOT F...</td>\n",
       "    </tr>\n",
       "  </tbody>\n",
       "</table>\n",
       "</div>"
      ],
      "text/plain": [
       "   group                 receiptId                    userId  \\\n",
       "0      0  5ff1e1eb0a720f0523000575  5ff1e1eacfcf6c399c274ae6   \n",
       "1      1  5ff1e1bb0a720f052300056b  5ff1e194b6a9d73a3a9f1052   \n",
       "2      1  5ff1e1bb0a720f052300056b  5ff1e194b6a9d73a3a9f1052   \n",
       "3      2  5ff1e1f10a720f052300057a  5ff1e1f1cfcf6c399c274b0b   \n",
       "4      3  5ff1e1ee0a7214ada100056f  5ff1e1eacfcf6c399c274ae6   \n",
       "\n",
       "                              rewardsReceiptItemList  \n",
       "0  {'barcode': '4011', 'description': 'ITEM NOT F...  \n",
       "1  {'barcode': '4011', 'description': 'ITEM NOT F...  \n",
       "2  {'barcode': '028400642255', 'description': 'DO...  \n",
       "3  {'needsFetchReview': False, 'partnerItemId': '...  \n",
       "4  {'barcode': '4011', 'description': 'ITEM NOT F...  "
      ]
     },
     "execution_count": 11,
     "metadata": {},
     "output_type": "execute_result"
    }
   ],
   "source": [
    "Itemslist = receipts[['rewardsReceiptItemList','receiptId','userId']].copy()\n",
    "Itemslist = explode(Itemslist,'rewardsReceiptItemList').reset_index()\n",
    "Itemslist = Itemslist.rename(columns = {'index':'group'})\n",
    "Itemslist.head(5)"
   ]
  },
  {
   "cell_type": "code",
   "execution_count": 12,
   "id": "f0086a6f",
   "metadata": {},
   "outputs": [
    {
     "data": {
      "text/plain": [
       "['barcode',\n",
       " 'description',\n",
       " 'finalPrice',\n",
       " 'itemPrice',\n",
       " 'needsFetchReview',\n",
       " 'partnerItemId',\n",
       " 'preventTargetGapPoints',\n",
       " 'quantityPurchased',\n",
       " 'userFlaggedBarcode',\n",
       " 'userFlaggedNewItem',\n",
       " 'userFlaggedPrice',\n",
       " 'userFlaggedQuantity',\n",
       " 'needsFetchReviewReason',\n",
       " 'pointsNotAwardedReason',\n",
       " 'pointsPayerId',\n",
       " 'rewardsGroup',\n",
       " 'rewardsProductPartnerId',\n",
       " 'userFlaggedDescription',\n",
       " 'originalMetaBriteBarcode',\n",
       " 'originalMetaBriteDescription',\n",
       " 'brandCode',\n",
       " 'competitorRewardsGroup',\n",
       " 'discountedItemPrice',\n",
       " 'originalReceiptItemText',\n",
       " 'itemNumber',\n",
       " 'originalMetaBriteQuantityPurchased',\n",
       " 'pointsEarned',\n",
       " 'targetPrice',\n",
       " 'competitiveProduct',\n",
       " 'originalFinalPrice',\n",
       " 'originalMetaBriteItemPrice',\n",
       " 'deleted',\n",
       " 'priceAfterCoupon',\n",
       " 'metabriteCampaignId']"
      ]
     },
     "execution_count": 12,
     "metadata": {},
     "output_type": "execute_result"
    }
   ],
   "source": [
    "keys1 = []\n",
    "for i in Itemslist['rewardsReceiptItemList']:\n",
    "    if type(i) != float:\n",
    "        for j in i.keys():\n",
    "            if j not in keys1:\n",
    "                keys1.append(j)           \n",
    "keys1"
   ]
  },
  {
   "cell_type": "code",
   "execution_count": 13,
   "id": "d204e259",
   "metadata": {},
   "outputs": [
    {
     "data": {
      "text/html": [
       "<div>\n",
       "<style scoped>\n",
       "    .dataframe tbody tr th:only-of-type {\n",
       "        vertical-align: middle;\n",
       "    }\n",
       "\n",
       "    .dataframe tbody tr th {\n",
       "        vertical-align: top;\n",
       "    }\n",
       "\n",
       "    .dataframe thead th {\n",
       "        text-align: right;\n",
       "    }\n",
       "</style>\n",
       "<table border=\"1\" class=\"dataframe\">\n",
       "  <thead>\n",
       "    <tr style=\"text-align: right;\">\n",
       "      <th></th>\n",
       "      <th>group</th>\n",
       "      <th>receiptId</th>\n",
       "      <th>userId</th>\n",
       "      <th>rewardsReceiptItemList</th>\n",
       "      <th>barcode</th>\n",
       "      <th>description</th>\n",
       "      <th>finalPrice</th>\n",
       "      <th>itemPrice</th>\n",
       "      <th>needsFetchReview</th>\n",
       "      <th>partnerItemId</th>\n",
       "      <th>...</th>\n",
       "      <th>itemNumber</th>\n",
       "      <th>originalMetaBriteQuantityPurchased</th>\n",
       "      <th>pointsEarned</th>\n",
       "      <th>targetPrice</th>\n",
       "      <th>competitiveProduct</th>\n",
       "      <th>originalFinalPrice</th>\n",
       "      <th>originalMetaBriteItemPrice</th>\n",
       "      <th>deleted</th>\n",
       "      <th>priceAfterCoupon</th>\n",
       "      <th>metabriteCampaignId</th>\n",
       "    </tr>\n",
       "  </thead>\n",
       "  <tbody>\n",
       "    <tr>\n",
       "      <th>0</th>\n",
       "      <td>0</td>\n",
       "      <td>5ff1e1eb0a720f0523000575</td>\n",
       "      <td>5ff1e1eacfcf6c399c274ae6</td>\n",
       "      <td>{'barcode': '4011', 'description': 'ITEM NOT F...</td>\n",
       "      <td>4011</td>\n",
       "      <td>ITEM NOT FOUND</td>\n",
       "      <td>26.00</td>\n",
       "      <td>26.00</td>\n",
       "      <td>False</td>\n",
       "      <td>1</td>\n",
       "      <td>...</td>\n",
       "      <td>None</td>\n",
       "      <td>NaN</td>\n",
       "      <td>None</td>\n",
       "      <td>None</td>\n",
       "      <td>None</td>\n",
       "      <td>None</td>\n",
       "      <td>None</td>\n",
       "      <td>None</td>\n",
       "      <td>None</td>\n",
       "      <td>None</td>\n",
       "    </tr>\n",
       "    <tr>\n",
       "      <th>1</th>\n",
       "      <td>1</td>\n",
       "      <td>5ff1e1bb0a720f052300056b</td>\n",
       "      <td>5ff1e194b6a9d73a3a9f1052</td>\n",
       "      <td>{'barcode': '4011', 'description': 'ITEM NOT F...</td>\n",
       "      <td>4011</td>\n",
       "      <td>ITEM NOT FOUND</td>\n",
       "      <td>1</td>\n",
       "      <td>1</td>\n",
       "      <td>None</td>\n",
       "      <td>1</td>\n",
       "      <td>...</td>\n",
       "      <td>None</td>\n",
       "      <td>NaN</td>\n",
       "      <td>None</td>\n",
       "      <td>None</td>\n",
       "      <td>None</td>\n",
       "      <td>None</td>\n",
       "      <td>None</td>\n",
       "      <td>None</td>\n",
       "      <td>None</td>\n",
       "      <td>None</td>\n",
       "    </tr>\n",
       "    <tr>\n",
       "      <th>2</th>\n",
       "      <td>1</td>\n",
       "      <td>5ff1e1bb0a720f052300056b</td>\n",
       "      <td>5ff1e194b6a9d73a3a9f1052</td>\n",
       "      <td>{'barcode': '028400642255', 'description': 'DO...</td>\n",
       "      <td>028400642255</td>\n",
       "      <td>DORITOS TORTILLA CHIP SPICY SWEET CHILI REDUCE...</td>\n",
       "      <td>10.00</td>\n",
       "      <td>10.00</td>\n",
       "      <td>True</td>\n",
       "      <td>2</td>\n",
       "      <td>...</td>\n",
       "      <td>None</td>\n",
       "      <td>NaN</td>\n",
       "      <td>None</td>\n",
       "      <td>None</td>\n",
       "      <td>None</td>\n",
       "      <td>None</td>\n",
       "      <td>None</td>\n",
       "      <td>None</td>\n",
       "      <td>None</td>\n",
       "      <td>None</td>\n",
       "    </tr>\n",
       "    <tr>\n",
       "      <th>3</th>\n",
       "      <td>2</td>\n",
       "      <td>5ff1e1f10a720f052300057a</td>\n",
       "      <td>5ff1e1f1cfcf6c399c274b0b</td>\n",
       "      <td>{'needsFetchReview': False, 'partnerItemId': '...</td>\n",
       "      <td>None</td>\n",
       "      <td>None</td>\n",
       "      <td>None</td>\n",
       "      <td>None</td>\n",
       "      <td>False</td>\n",
       "      <td>1</td>\n",
       "      <td>...</td>\n",
       "      <td>None</td>\n",
       "      <td>NaN</td>\n",
       "      <td>None</td>\n",
       "      <td>None</td>\n",
       "      <td>None</td>\n",
       "      <td>None</td>\n",
       "      <td>None</td>\n",
       "      <td>None</td>\n",
       "      <td>None</td>\n",
       "      <td>None</td>\n",
       "    </tr>\n",
       "    <tr>\n",
       "      <th>4</th>\n",
       "      <td>3</td>\n",
       "      <td>5ff1e1ee0a7214ada100056f</td>\n",
       "      <td>5ff1e1eacfcf6c399c274ae6</td>\n",
       "      <td>{'barcode': '4011', 'description': 'ITEM NOT F...</td>\n",
       "      <td>4011</td>\n",
       "      <td>ITEM NOT FOUND</td>\n",
       "      <td>28.00</td>\n",
       "      <td>28.00</td>\n",
       "      <td>False</td>\n",
       "      <td>1</td>\n",
       "      <td>...</td>\n",
       "      <td>None</td>\n",
       "      <td>NaN</td>\n",
       "      <td>None</td>\n",
       "      <td>None</td>\n",
       "      <td>None</td>\n",
       "      <td>None</td>\n",
       "      <td>None</td>\n",
       "      <td>None</td>\n",
       "      <td>None</td>\n",
       "      <td>None</td>\n",
       "    </tr>\n",
       "  </tbody>\n",
       "</table>\n",
       "<p>5 rows × 38 columns</p>\n",
       "</div>"
      ],
      "text/plain": [
       "   group                 receiptId                    userId  \\\n",
       "0      0  5ff1e1eb0a720f0523000575  5ff1e1eacfcf6c399c274ae6   \n",
       "1      1  5ff1e1bb0a720f052300056b  5ff1e194b6a9d73a3a9f1052   \n",
       "2      1  5ff1e1bb0a720f052300056b  5ff1e194b6a9d73a3a9f1052   \n",
       "3      2  5ff1e1f10a720f052300057a  5ff1e1f1cfcf6c399c274b0b   \n",
       "4      3  5ff1e1ee0a7214ada100056f  5ff1e1eacfcf6c399c274ae6   \n",
       "\n",
       "                              rewardsReceiptItemList       barcode  \\\n",
       "0  {'barcode': '4011', 'description': 'ITEM NOT F...          4011   \n",
       "1  {'barcode': '4011', 'description': 'ITEM NOT F...          4011   \n",
       "2  {'barcode': '028400642255', 'description': 'DO...  028400642255   \n",
       "3  {'needsFetchReview': False, 'partnerItemId': '...          None   \n",
       "4  {'barcode': '4011', 'description': 'ITEM NOT F...          4011   \n",
       "\n",
       "                                         description finalPrice itemPrice  \\\n",
       "0                                     ITEM NOT FOUND      26.00     26.00   \n",
       "1                                     ITEM NOT FOUND          1         1   \n",
       "2  DORITOS TORTILLA CHIP SPICY SWEET CHILI REDUCE...      10.00     10.00   \n",
       "3                                               None       None      None   \n",
       "4                                     ITEM NOT FOUND      28.00     28.00   \n",
       "\n",
       "  needsFetchReview partnerItemId  ... itemNumber  \\\n",
       "0            False             1  ...       None   \n",
       "1             None             1  ...       None   \n",
       "2             True             2  ...       None   \n",
       "3            False             1  ...       None   \n",
       "4            False             1  ...       None   \n",
       "\n",
       "   originalMetaBriteQuantityPurchased pointsEarned targetPrice  \\\n",
       "0                                 NaN         None        None   \n",
       "1                                 NaN         None        None   \n",
       "2                                 NaN         None        None   \n",
       "3                                 NaN         None        None   \n",
       "4                                 NaN         None        None   \n",
       "\n",
       "  competitiveProduct  originalFinalPrice originalMetaBriteItemPrice deleted  \\\n",
       "0               None                None                       None    None   \n",
       "1               None                None                       None    None   \n",
       "2               None                None                       None    None   \n",
       "3               None                None                       None    None   \n",
       "4               None                None                       None    None   \n",
       "\n",
       "  priceAfterCoupon metabriteCampaignId  \n",
       "0             None                None  \n",
       "1             None                None  \n",
       "2             None                None  \n",
       "3             None                None  \n",
       "4             None                None  \n",
       "\n",
       "[5 rows x 38 columns]"
      ]
     },
     "execution_count": 13,
     "metadata": {},
     "output_type": "execute_result"
    }
   ],
   "source": [
    "Itemslist1 = pd.DataFrame(columns=keys1)\n",
    "\n",
    "for i in range(len(keys1)):\n",
    "    column1 = Itemslist1.columns[i]\n",
    "    Itemslist1[column1] = Itemslist['rewardsReceiptItemList'].apply(lambda x: explode1(x,column1))\n",
    "\n",
    "Itemslist1.head(5)\n",
    "Itemslist = pd.concat([Itemslist,Itemslist1],axis=1)\n",
    "Itemslist.head(5)"
   ]
  },
  {
   "cell_type": "code",
   "execution_count": 14,
   "id": "cb8cbcc2",
   "metadata": {},
   "outputs": [],
   "source": [
    "receipts.drop(['rewardsReceiptItemList'],axis=1, inplace = True)\n",
    "brands.drop(['cpg'],axis = 1,inplace = True)\n",
    "Itemslist.drop(['rewardsReceiptItemList'],axis=1,inplace = True)"
   ]
  },
  {
   "cell_type": "code",
   "execution_count": 15,
   "id": "f2807d63",
   "metadata": {},
   "outputs": [
    {
     "name": "stdout",
     "output_type": "stream",
     "text": [
      "Index(['userId', 'active', 'createdDate', 'lastLogin', 'role', 'signUpSource',\n",
      "       'state'],\n",
      "      dtype='object')\n",
      "7\n"
     ]
    },
    {
     "data": {
      "text/plain": [
       "495"
      ]
     },
     "execution_count": 15,
     "metadata": {},
     "output_type": "execute_result"
    }
   ],
   "source": [
    "print(users.columns)\n",
    "print(len(users.columns))\n",
    "len(users)"
   ]
  },
  {
   "cell_type": "code",
   "execution_count": 16,
   "id": "1b9e8a5f",
   "metadata": {},
   "outputs": [
    {
     "name": "stdout",
     "output_type": "stream",
     "text": [
      "Index(['receiptId', 'bonusPointsEarned', 'bonusPointsEarnedReason',\n",
      "       'createDate', 'dateScanned', 'finishedDate', 'modifyDate',\n",
      "       'pointsAwardedDate', 'pointsEarned', 'purchaseDate',\n",
      "       'purchasedItemCount', 'rewardsReceiptStatus', 'totalSpent', 'userId'],\n",
      "      dtype='object')\n",
      "14\n"
     ]
    },
    {
     "data": {
      "text/plain": [
       "1119"
      ]
     },
     "execution_count": 16,
     "metadata": {},
     "output_type": "execute_result"
    }
   ],
   "source": [
    "print(receipts.columns)\n",
    "print(len(receipts.columns))\n",
    "len(receipts)"
   ]
  },
  {
   "cell_type": "code",
   "execution_count": 17,
   "id": "3a95913d",
   "metadata": {},
   "outputs": [
    {
     "name": "stdout",
     "output_type": "stream",
     "text": [
      "Index(['group', 'receiptId', 'userId', 'barcode', 'description', 'finalPrice',\n",
      "       'itemPrice', 'needsFetchReview', 'partnerItemId',\n",
      "       'preventTargetGapPoints', 'quantityPurchased', 'userFlaggedBarcode',\n",
      "       'userFlaggedNewItem', 'userFlaggedPrice', 'userFlaggedQuantity',\n",
      "       'needsFetchReviewReason', 'pointsNotAwardedReason', 'pointsPayerId',\n",
      "       'rewardsGroup', 'rewardsProductPartnerId', 'userFlaggedDescription',\n",
      "       'originalMetaBriteBarcode', 'originalMetaBriteDescription', 'brandCode',\n",
      "       'competitorRewardsGroup', 'discountedItemPrice',\n",
      "       'originalReceiptItemText', 'itemNumber',\n",
      "       'originalMetaBriteQuantityPurchased', 'pointsEarned', 'targetPrice',\n",
      "       'competitiveProduct', 'originalFinalPrice',\n",
      "       'originalMetaBriteItemPrice', 'deleted', 'priceAfterCoupon',\n",
      "       'metabriteCampaignId'],\n",
      "      dtype='object')\n",
      "37\n",
      "<class 'pandas.core.frame.DataFrame'>\n",
      "RangeIndex: 7381 entries, 0 to 7380\n",
      "Data columns (total 37 columns):\n",
      " #   Column                              Non-Null Count  Dtype  \n",
      "---  ------                              --------------  -----  \n",
      " 0   group                               7381 non-null   int64  \n",
      " 1   receiptId                           7381 non-null   object \n",
      " 2   userId                              7381 non-null   object \n",
      " 3   barcode                             3090 non-null   object \n",
      " 4   description                         6560 non-null   object \n",
      " 5   finalPrice                          6767 non-null   object \n",
      " 6   itemPrice                           6767 non-null   object \n",
      " 7   needsFetchReview                    813 non-null    object \n",
      " 8   partnerItemId                       6941 non-null   object \n",
      " 9   preventTargetGapPoints              358 non-null    object \n",
      " 10  quantityPurchased                   6767 non-null   float64\n",
      " 11  userFlaggedBarcode                  337 non-null    object \n",
      " 12  userFlaggedNewItem                  323 non-null    object \n",
      " 13  userFlaggedPrice                    299 non-null    object \n",
      " 14  userFlaggedQuantity                 299 non-null    float64\n",
      " 15  needsFetchReviewReason              219 non-null    object \n",
      " 16  pointsNotAwardedReason              340 non-null    object \n",
      " 17  pointsPayerId                       1267 non-null   object \n",
      " 18  rewardsGroup                        1731 non-null   object \n",
      " 19  rewardsProductPartnerId             2269 non-null   object \n",
      " 20  userFlaggedDescription              205 non-null    object \n",
      " 21  originalMetaBriteBarcode            71 non-null     object \n",
      " 22  originalMetaBriteDescription        10 non-null     object \n",
      " 23  brandCode                           2600 non-null   object \n",
      " 24  competitorRewardsGroup              275 non-null    object \n",
      " 25  discountedItemPrice                 5769 non-null   object \n",
      " 26  originalReceiptItemText             5760 non-null   object \n",
      " 27  itemNumber                          153 non-null    object \n",
      " 28  originalMetaBriteQuantityPurchased  15 non-null     float64\n",
      " 29  pointsEarned                        927 non-null    object \n",
      " 30  targetPrice                         378 non-null    object \n",
      " 31  competitiveProduct                  645 non-null    object \n",
      " 32  originalFinalPrice                  9 non-null      object \n",
      " 33  originalMetaBriteItemPrice          9 non-null      object \n",
      " 34  deleted                             9 non-null      object \n",
      " 35  priceAfterCoupon                    956 non-null    object \n",
      " 36  metabriteCampaignId                 863 non-null    object \n",
      "dtypes: float64(3), int64(1), object(33)\n",
      "memory usage: 2.1+ MB\n"
     ]
    },
    {
     "data": {
      "text/html": [
       "<div>\n",
       "<style scoped>\n",
       "    .dataframe tbody tr th:only-of-type {\n",
       "        vertical-align: middle;\n",
       "    }\n",
       "\n",
       "    .dataframe tbody tr th {\n",
       "        vertical-align: top;\n",
       "    }\n",
       "\n",
       "    .dataframe thead th {\n",
       "        text-align: right;\n",
       "    }\n",
       "</style>\n",
       "<table border=\"1\" class=\"dataframe\">\n",
       "  <thead>\n",
       "    <tr style=\"text-align: right;\">\n",
       "      <th></th>\n",
       "      <th>group</th>\n",
       "      <th>receiptId</th>\n",
       "      <th>userId</th>\n",
       "      <th>barcode</th>\n",
       "      <th>description</th>\n",
       "      <th>finalPrice</th>\n",
       "      <th>itemPrice</th>\n",
       "      <th>needsFetchReview</th>\n",
       "      <th>partnerItemId</th>\n",
       "      <th>preventTargetGapPoints</th>\n",
       "      <th>...</th>\n",
       "      <th>itemNumber</th>\n",
       "      <th>originalMetaBriteQuantityPurchased</th>\n",
       "      <th>pointsEarned</th>\n",
       "      <th>targetPrice</th>\n",
       "      <th>competitiveProduct</th>\n",
       "      <th>originalFinalPrice</th>\n",
       "      <th>originalMetaBriteItemPrice</th>\n",
       "      <th>deleted</th>\n",
       "      <th>priceAfterCoupon</th>\n",
       "      <th>metabriteCampaignId</th>\n",
       "    </tr>\n",
       "  </thead>\n",
       "  <tbody>\n",
       "    <tr>\n",
       "      <th>0</th>\n",
       "      <td>0</td>\n",
       "      <td>5ff1e1eb0a720f0523000575</td>\n",
       "      <td>5ff1e1eacfcf6c399c274ae6</td>\n",
       "      <td>4011</td>\n",
       "      <td>ITEM NOT FOUND</td>\n",
       "      <td>26.00</td>\n",
       "      <td>26.00</td>\n",
       "      <td>False</td>\n",
       "      <td>1</td>\n",
       "      <td>True</td>\n",
       "      <td>...</td>\n",
       "      <td>None</td>\n",
       "      <td>NaN</td>\n",
       "      <td>None</td>\n",
       "      <td>None</td>\n",
       "      <td>None</td>\n",
       "      <td>None</td>\n",
       "      <td>None</td>\n",
       "      <td>None</td>\n",
       "      <td>None</td>\n",
       "      <td>None</td>\n",
       "    </tr>\n",
       "    <tr>\n",
       "      <th>1</th>\n",
       "      <td>1</td>\n",
       "      <td>5ff1e1bb0a720f052300056b</td>\n",
       "      <td>5ff1e194b6a9d73a3a9f1052</td>\n",
       "      <td>4011</td>\n",
       "      <td>ITEM NOT FOUND</td>\n",
       "      <td>1</td>\n",
       "      <td>1</td>\n",
       "      <td>None</td>\n",
       "      <td>1</td>\n",
       "      <td>None</td>\n",
       "      <td>...</td>\n",
       "      <td>None</td>\n",
       "      <td>NaN</td>\n",
       "      <td>None</td>\n",
       "      <td>None</td>\n",
       "      <td>None</td>\n",
       "      <td>None</td>\n",
       "      <td>None</td>\n",
       "      <td>None</td>\n",
       "      <td>None</td>\n",
       "      <td>None</td>\n",
       "    </tr>\n",
       "    <tr>\n",
       "      <th>2</th>\n",
       "      <td>1</td>\n",
       "      <td>5ff1e1bb0a720f052300056b</td>\n",
       "      <td>5ff1e194b6a9d73a3a9f1052</td>\n",
       "      <td>028400642255</td>\n",
       "      <td>DORITOS TORTILLA CHIP SPICY SWEET CHILI REDUCE...</td>\n",
       "      <td>10.00</td>\n",
       "      <td>10.00</td>\n",
       "      <td>True</td>\n",
       "      <td>2</td>\n",
       "      <td>True</td>\n",
       "      <td>...</td>\n",
       "      <td>None</td>\n",
       "      <td>NaN</td>\n",
       "      <td>None</td>\n",
       "      <td>None</td>\n",
       "      <td>None</td>\n",
       "      <td>None</td>\n",
       "      <td>None</td>\n",
       "      <td>None</td>\n",
       "      <td>None</td>\n",
       "      <td>None</td>\n",
       "    </tr>\n",
       "    <tr>\n",
       "      <th>3</th>\n",
       "      <td>2</td>\n",
       "      <td>5ff1e1f10a720f052300057a</td>\n",
       "      <td>5ff1e1f1cfcf6c399c274b0b</td>\n",
       "      <td>None</td>\n",
       "      <td>None</td>\n",
       "      <td>None</td>\n",
       "      <td>None</td>\n",
       "      <td>False</td>\n",
       "      <td>1</td>\n",
       "      <td>True</td>\n",
       "      <td>...</td>\n",
       "      <td>None</td>\n",
       "      <td>NaN</td>\n",
       "      <td>None</td>\n",
       "      <td>None</td>\n",
       "      <td>None</td>\n",
       "      <td>None</td>\n",
       "      <td>None</td>\n",
       "      <td>None</td>\n",
       "      <td>None</td>\n",
       "      <td>None</td>\n",
       "    </tr>\n",
       "    <tr>\n",
       "      <th>4</th>\n",
       "      <td>3</td>\n",
       "      <td>5ff1e1ee0a7214ada100056f</td>\n",
       "      <td>5ff1e1eacfcf6c399c274ae6</td>\n",
       "      <td>4011</td>\n",
       "      <td>ITEM NOT FOUND</td>\n",
       "      <td>28.00</td>\n",
       "      <td>28.00</td>\n",
       "      <td>False</td>\n",
       "      <td>1</td>\n",
       "      <td>True</td>\n",
       "      <td>...</td>\n",
       "      <td>None</td>\n",
       "      <td>NaN</td>\n",
       "      <td>None</td>\n",
       "      <td>None</td>\n",
       "      <td>None</td>\n",
       "      <td>None</td>\n",
       "      <td>None</td>\n",
       "      <td>None</td>\n",
       "      <td>None</td>\n",
       "      <td>None</td>\n",
       "    </tr>\n",
       "  </tbody>\n",
       "</table>\n",
       "<p>5 rows × 37 columns</p>\n",
       "</div>"
      ],
      "text/plain": [
       "   group                 receiptId                    userId       barcode  \\\n",
       "0      0  5ff1e1eb0a720f0523000575  5ff1e1eacfcf6c399c274ae6          4011   \n",
       "1      1  5ff1e1bb0a720f052300056b  5ff1e194b6a9d73a3a9f1052          4011   \n",
       "2      1  5ff1e1bb0a720f052300056b  5ff1e194b6a9d73a3a9f1052  028400642255   \n",
       "3      2  5ff1e1f10a720f052300057a  5ff1e1f1cfcf6c399c274b0b          None   \n",
       "4      3  5ff1e1ee0a7214ada100056f  5ff1e1eacfcf6c399c274ae6          4011   \n",
       "\n",
       "                                         description finalPrice itemPrice  \\\n",
       "0                                     ITEM NOT FOUND      26.00     26.00   \n",
       "1                                     ITEM NOT FOUND          1         1   \n",
       "2  DORITOS TORTILLA CHIP SPICY SWEET CHILI REDUCE...      10.00     10.00   \n",
       "3                                               None       None      None   \n",
       "4                                     ITEM NOT FOUND      28.00     28.00   \n",
       "\n",
       "  needsFetchReview partnerItemId preventTargetGapPoints  ...  itemNumber  \\\n",
       "0            False             1                   True  ...        None   \n",
       "1             None             1                   None  ...        None   \n",
       "2             True             2                   True  ...        None   \n",
       "3            False             1                   True  ...        None   \n",
       "4            False             1                   True  ...        None   \n",
       "\n",
       "  originalMetaBriteQuantityPurchased pointsEarned targetPrice  \\\n",
       "0                                NaN         None        None   \n",
       "1                                NaN         None        None   \n",
       "2                                NaN         None        None   \n",
       "3                                NaN         None        None   \n",
       "4                                NaN         None        None   \n",
       "\n",
       "   competitiveProduct originalFinalPrice originalMetaBriteItemPrice deleted  \\\n",
       "0                None               None                       None    None   \n",
       "1                None               None                       None    None   \n",
       "2                None               None                       None    None   \n",
       "3                None               None                       None    None   \n",
       "4                None               None                       None    None   \n",
       "\n",
       "  priceAfterCoupon metabriteCampaignId  \n",
       "0             None                None  \n",
       "1             None                None  \n",
       "2             None                None  \n",
       "3             None                None  \n",
       "4             None                None  \n",
       "\n",
       "[5 rows x 37 columns]"
      ]
     },
     "execution_count": 17,
     "metadata": {},
     "output_type": "execute_result"
    }
   ],
   "source": [
    "print(Itemslist.columns)\n",
    "print(len(Itemslist.columns))\n",
    "len(Itemslist)\n",
    "Itemslist.info()\n",
    "Itemslist.head(5)"
   ]
  },
  {
   "cell_type": "code",
   "execution_count": 18,
   "id": "8f6e5325",
   "metadata": {},
   "outputs": [
    {
     "name": "stdout",
     "output_type": "stream",
     "text": [
      "Index(['brandId', 'barcode', 'category', 'categoryCode', 'name', 'topBrand',\n",
      "       'brandCode', 'oid', 'ref'],\n",
      "      dtype='object')\n",
      "9\n"
     ]
    },
    {
     "data": {
      "text/plain": [
       "1167"
      ]
     },
     "execution_count": 18,
     "metadata": {},
     "output_type": "execute_result"
    }
   ],
   "source": [
    "print(brands.columns)\n",
    "print(len(brands.columns))\n",
    "len(brands)"
   ]
  },
  {
   "cell_type": "code",
   "execution_count": 20,
   "id": "d63e7f94",
   "metadata": {},
   "outputs": [
    {
     "data": {
      "text/html": [
       "<div>\n",
       "<style scoped>\n",
       "    .dataframe tbody tr th:only-of-type {\n",
       "        vertical-align: middle;\n",
       "    }\n",
       "\n",
       "    .dataframe tbody tr th {\n",
       "        vertical-align: top;\n",
       "    }\n",
       "\n",
       "    .dataframe thead th {\n",
       "        text-align: right;\n",
       "    }\n",
       "</style>\n",
       "<table border=\"1\" class=\"dataframe\">\n",
       "  <thead>\n",
       "    <tr style=\"text-align: right;\">\n",
       "      <th></th>\n",
       "      <th>brandId</th>\n",
       "      <th>barcode</th>\n",
       "      <th>category</th>\n",
       "      <th>categoryCode</th>\n",
       "      <th>name</th>\n",
       "      <th>topBrand</th>\n",
       "      <th>brandCode</th>\n",
       "      <th>oid</th>\n",
       "      <th>ref</th>\n",
       "    </tr>\n",
       "  </thead>\n",
       "  <tbody>\n",
       "    <tr>\n",
       "      <th>0</th>\n",
       "      <td>601ac115be37ce2ead437551</td>\n",
       "      <td>511111019862</td>\n",
       "      <td>Baking</td>\n",
       "      <td>BAKING</td>\n",
       "      <td>test brand @1612366101024</td>\n",
       "      <td>0.0</td>\n",
       "      <td>NaN</td>\n",
       "      <td>601ac114be37ce2ead437550</td>\n",
       "      <td>Cogs</td>\n",
       "    </tr>\n",
       "    <tr>\n",
       "      <th>1</th>\n",
       "      <td>601c5460be37ce2ead43755f</td>\n",
       "      <td>511111519928</td>\n",
       "      <td>Beverages</td>\n",
       "      <td>BEVERAGES</td>\n",
       "      <td>Starbucks</td>\n",
       "      <td>0.0</td>\n",
       "      <td>STARBUCKS</td>\n",
       "      <td>5332f5fbe4b03c9a25efd0ba</td>\n",
       "      <td>Cogs</td>\n",
       "    </tr>\n",
       "    <tr>\n",
       "      <th>2</th>\n",
       "      <td>601ac142be37ce2ead43755d</td>\n",
       "      <td>511111819905</td>\n",
       "      <td>Baking</td>\n",
       "      <td>BAKING</td>\n",
       "      <td>test brand @1612366146176</td>\n",
       "      <td>0.0</td>\n",
       "      <td>TEST BRANDCODE @1612366146176</td>\n",
       "      <td>601ac142be37ce2ead437559</td>\n",
       "      <td>Cogs</td>\n",
       "    </tr>\n",
       "    <tr>\n",
       "      <th>3</th>\n",
       "      <td>601ac142be37ce2ead43755a</td>\n",
       "      <td>511111519874</td>\n",
       "      <td>Baking</td>\n",
       "      <td>BAKING</td>\n",
       "      <td>test brand @1612366146051</td>\n",
       "      <td>0.0</td>\n",
       "      <td>TEST BRANDCODE @1612366146051</td>\n",
       "      <td>601ac142be37ce2ead437559</td>\n",
       "      <td>Cogs</td>\n",
       "    </tr>\n",
       "    <tr>\n",
       "      <th>4</th>\n",
       "      <td>601ac142be37ce2ead43755e</td>\n",
       "      <td>511111319917</td>\n",
       "      <td>Candy &amp; Sweets</td>\n",
       "      <td>CANDY_AND_SWEETS</td>\n",
       "      <td>test brand @1612366146827</td>\n",
       "      <td>0.0</td>\n",
       "      <td>TEST BRANDCODE @1612366146827</td>\n",
       "      <td>5332fa12e4b03c9a25efd1e7</td>\n",
       "      <td>Cogs</td>\n",
       "    </tr>\n",
       "    <tr>\n",
       "      <th>5</th>\n",
       "      <td>601ac142be37ce2ead43755b</td>\n",
       "      <td>511111719885</td>\n",
       "      <td>Baking</td>\n",
       "      <td>BAKING</td>\n",
       "      <td>test brand @1612366146091</td>\n",
       "      <td>0.0</td>\n",
       "      <td>TEST BRANDCODE @1612366146091</td>\n",
       "      <td>601ac142be37ce2ead437559</td>\n",
       "      <td>Cogs</td>\n",
       "    </tr>\n",
       "    <tr>\n",
       "      <th>6</th>\n",
       "      <td>601ac142be37ce2ead43755c</td>\n",
       "      <td>511111219897</td>\n",
       "      <td>Baking</td>\n",
       "      <td>BAKING</td>\n",
       "      <td>test brand @1612366146133</td>\n",
       "      <td>0.0</td>\n",
       "      <td>TEST BRANDCODE @1612366146133</td>\n",
       "      <td>601ac142be37ce2ead437559</td>\n",
       "      <td>Cogs</td>\n",
       "    </tr>\n",
       "    <tr>\n",
       "      <th>7</th>\n",
       "      <td>5cdad0f5166eb33eb7ce0faa</td>\n",
       "      <td>511111104810</td>\n",
       "      <td>Condiments &amp; Sauces</td>\n",
       "      <td>NaN</td>\n",
       "      <td>J.L. Kraft</td>\n",
       "      <td>NaN</td>\n",
       "      <td>J.L. KRAFT</td>\n",
       "      <td>559c2234e4b06aca36af13c6</td>\n",
       "      <td>Cogs</td>\n",
       "    </tr>\n",
       "    <tr>\n",
       "      <th>8</th>\n",
       "      <td>5ab15636e4b0be0a89bb0b07</td>\n",
       "      <td>511111504412</td>\n",
       "      <td>Canned Goods &amp; Soups</td>\n",
       "      <td>NaN</td>\n",
       "      <td>Campbell's Home Style</td>\n",
       "      <td>0.0</td>\n",
       "      <td>CAMPBELLS HOME STYLE</td>\n",
       "      <td>5a734034e4b0d58f376be874</td>\n",
       "      <td>Cogs</td>\n",
       "    </tr>\n",
       "    <tr>\n",
       "      <th>9</th>\n",
       "      <td>5c408e8bcd244a1fdb47aee7</td>\n",
       "      <td>511111504788</td>\n",
       "      <td>Baking</td>\n",
       "      <td>NaN</td>\n",
       "      <td>test</td>\n",
       "      <td>NaN</td>\n",
       "      <td>TEST</td>\n",
       "      <td>59ba6f1ce4b092b29c167346</td>\n",
       "      <td>Cogs</td>\n",
       "    </tr>\n",
       "  </tbody>\n",
       "</table>\n",
       "</div>"
      ],
      "text/plain": [
       "                    brandId       barcode              category  \\\n",
       "0  601ac115be37ce2ead437551  511111019862                Baking   \n",
       "1  601c5460be37ce2ead43755f  511111519928             Beverages   \n",
       "2  601ac142be37ce2ead43755d  511111819905                Baking   \n",
       "3  601ac142be37ce2ead43755a  511111519874                Baking   \n",
       "4  601ac142be37ce2ead43755e  511111319917        Candy & Sweets   \n",
       "5  601ac142be37ce2ead43755b  511111719885                Baking   \n",
       "6  601ac142be37ce2ead43755c  511111219897                Baking   \n",
       "7  5cdad0f5166eb33eb7ce0faa  511111104810   Condiments & Sauces   \n",
       "8  5ab15636e4b0be0a89bb0b07  511111504412  Canned Goods & Soups   \n",
       "9  5c408e8bcd244a1fdb47aee7  511111504788                Baking   \n",
       "\n",
       "       categoryCode                       name  topBrand  \\\n",
       "0            BAKING  test brand @1612366101024       0.0   \n",
       "1         BEVERAGES                  Starbucks       0.0   \n",
       "2            BAKING  test brand @1612366146176       0.0   \n",
       "3            BAKING  test brand @1612366146051       0.0   \n",
       "4  CANDY_AND_SWEETS  test brand @1612366146827       0.0   \n",
       "5            BAKING  test brand @1612366146091       0.0   \n",
       "6            BAKING  test brand @1612366146133       0.0   \n",
       "7               NaN                 J.L. Kraft       NaN   \n",
       "8               NaN      Campbell's Home Style       0.0   \n",
       "9               NaN                       test       NaN   \n",
       "\n",
       "                       brandCode                       oid   ref  \n",
       "0                            NaN  601ac114be37ce2ead437550  Cogs  \n",
       "1                      STARBUCKS  5332f5fbe4b03c9a25efd0ba  Cogs  \n",
       "2  TEST BRANDCODE @1612366146176  601ac142be37ce2ead437559  Cogs  \n",
       "3  TEST BRANDCODE @1612366146051  601ac142be37ce2ead437559  Cogs  \n",
       "4  TEST BRANDCODE @1612366146827  5332fa12e4b03c9a25efd1e7  Cogs  \n",
       "5  TEST BRANDCODE @1612366146091  601ac142be37ce2ead437559  Cogs  \n",
       "6  TEST BRANDCODE @1612366146133  601ac142be37ce2ead437559  Cogs  \n",
       "7                     J.L. KRAFT  559c2234e4b06aca36af13c6  Cogs  \n",
       "8           CAMPBELLS HOME STYLE  5a734034e4b0d58f376be874  Cogs  \n",
       "9                           TEST  59ba6f1ce4b092b29c167346  Cogs  "
      ]
     },
     "execution_count": 20,
     "metadata": {},
     "output_type": "execute_result"
    }
   ],
   "source": [
    "brands['name']=brands['name'].str.replace(\"¬Æ\",\" \")\n",
    "brands['name']=brands['name'].str.replace(\"‚Ñ¢\",\" \")\n",
    "brands['name']=brands['name'].str.replace(\"®\",\" \")\n",
    "brands['name']=brands['name'].str.replace(\"™\",\" \")\n",
    "brands.to_csv('/Users/yuxuanhuang/Desktop/brands1.csv',index=False, encoding='utf-8')\n",
    "Itemslist.to_csv('/Users/yuxuanhuang/Desktop/Itemslist1.csv',index=False, encoding='utf-8')\n",
    "users.to_csv('/Users/yuxuanhuang/Desktop/users1.csv',index=False, encoding='utf-8')\n",
    "receipts.to_csv('/Users/yuxuanhuang/Desktop/receipts1.csv',index=False, encoding='utf-8')\n",
    "brands.head(10)"
   ]
  },
  {
   "cell_type": "code",
   "execution_count": 23,
   "id": "6de2b8d5",
   "metadata": {},
   "outputs": [
    {
     "data": {
      "text/plain": [
       "{'brandId': 24,\n",
       " 'barcode': 12,\n",
       " 'category': 27,\n",
       " 'categoryCode': 29,\n",
       " 'name': 57,\n",
       " 'topBrand': 3,\n",
       " 'brandCode': 46,\n",
       " 'oid': 24,\n",
       " 'ref': 4}"
      ]
     },
     "execution_count": 23,
     "metadata": {},
     "output_type": "execute_result"
    }
   ],
   "source": [
    "measurer = np.vectorize(len)\n",
    "brandsChar = dict(zip(brands, measurer(brands.values.astype(str)).max(axis=0)))\n",
    "ItemslistChar = dict(zip(Itemslist, measurer(Itemslist.values.astype(str)).max(axis=0)))\n",
    "usersChar = dict(zip(users, measurer(users.values.astype(str)).max(axis=0)))\n",
    "receiptsChar = dict(zip(receipts, measurer(receipts.values.astype(str)).max(axis=0)))\n",
    "\n",
    "brandsChar"
   ]
  },
  {
   "cell_type": "code",
   "execution_count": 24,
   "id": "92636d87",
   "metadata": {},
   "outputs": [
    {
     "data": {
      "text/plain": [
       "{'receiptId': 24,\n",
       " 'bonusPointsEarned': 5,\n",
       " 'bonusPointsEarnedReason': 83,\n",
       " 'createDate': 26,\n",
       " 'dateScanned': 26,\n",
       " 'finishedDate': 26,\n",
       " 'modifyDate': 26,\n",
       " 'pointsAwardedDate': 19,\n",
       " 'pointsEarned': 7,\n",
       " 'purchaseDate': 19,\n",
       " 'purchasedItemCount': 5,\n",
       " 'rewardsReceiptStatus': 9,\n",
       " 'totalSpent': 7,\n",
       " 'userId': 24}"
      ]
     },
     "execution_count": 24,
     "metadata": {},
     "output_type": "execute_result"
    }
   ],
   "source": [
    "receiptsChar"
   ]
  },
  {
   "cell_type": "code",
   "execution_count": 25,
   "id": "c71ecd4b",
   "metadata": {},
   "outputs": [
    {
     "data": {
      "text/plain": [
       "{'group': 4,\n",
       " 'receiptId': 24,\n",
       " 'userId': 24,\n",
       " 'barcode': 13,\n",
       " 'description': 155,\n",
       " 'finalPrice': 6,\n",
       " 'itemPrice': 6,\n",
       " 'needsFetchReview': 5,\n",
       " 'partnerItemId': 4,\n",
       " 'preventTargetGapPoints': 4,\n",
       " 'quantityPurchased': 4,\n",
       " 'userFlaggedBarcode': 12,\n",
       " 'userFlaggedNewItem': 4,\n",
       " 'userFlaggedPrice': 5,\n",
       " 'userFlaggedQuantity': 3,\n",
       " 'needsFetchReviewReason': 29,\n",
       " 'pointsNotAwardedReason': 35,\n",
       " 'pointsPayerId': 24,\n",
       " 'rewardsGroup': 66,\n",
       " 'rewardsProductPartnerId': 24,\n",
       " 'userFlaggedDescription': 60,\n",
       " 'originalMetaBriteBarcode': 12,\n",
       " 'originalMetaBriteDescription': 60,\n",
       " 'brandCode': 27,\n",
       " 'competitorRewardsGroup': 47,\n",
       " 'discountedItemPrice': 6,\n",
       " 'originalReceiptItemText': 155,\n",
       " 'itemNumber': 12,\n",
       " 'originalMetaBriteQuantityPurchased': 3,\n",
       " 'pointsEarned': 5,\n",
       " 'targetPrice': 4,\n",
       " 'competitiveProduct': 5,\n",
       " 'originalFinalPrice': 5,\n",
       " 'originalMetaBriteItemPrice': 5,\n",
       " 'deleted': 4,\n",
       " 'priceAfterCoupon': 6,\n",
       " 'metabriteCampaignId': 66}"
      ]
     },
     "execution_count": 25,
     "metadata": {},
     "output_type": "execute_result"
    }
   ],
   "source": [
    "ItemslistChar"
   ]
  },
  {
   "cell_type": "code",
   "execution_count": 26,
   "id": "d9498ccc",
   "metadata": {},
   "outputs": [
    {
     "data": {
      "text/plain": [
       "{'userId': 24,\n",
       " 'active': 5,\n",
       " 'createdDate': 26,\n",
       " 'lastLogin': 26,\n",
       " 'role': 11,\n",
       " 'signUpSource': 6,\n",
       " 'state': 3}"
      ]
     },
     "execution_count": 26,
     "metadata": {},
     "output_type": "execute_result"
    }
   ],
   "source": [
    "usersChar"
   ]
  },
  {
   "cell_type": "code",
   "execution_count": 27,
   "id": "c0cffd40",
   "metadata": {},
   "outputs": [],
   "source": [
    "# Evaluate Data Quality Issues"
   ]
  },
  {
   "cell_type": "code",
   "execution_count": 28,
   "id": "790b1876",
   "metadata": {},
   "outputs": [],
   "source": [
    "# Barcode has low matching rate between receipts and itemslist datasets "
   ]
  },
  {
   "cell_type": "code",
   "execution_count": 29,
   "id": "8d040c26",
   "metadata": {},
   "outputs": [
    {
     "data": {
      "text/plain": [
       "0               4011\n",
       "1               4011\n",
       "2       028400642255\n",
       "3               None\n",
       "4               4011\n",
       "            ...     \n",
       "7376            None\n",
       "7377            None\n",
       "7378      B076FJ92M4\n",
       "7379      B07BRRLSVC\n",
       "7380            None\n",
       "Name: barcode, Length: 7381, dtype: object"
      ]
     },
     "execution_count": 29,
     "metadata": {},
     "output_type": "execute_result"
    }
   ],
   "source": [
    "Itemslist['barcode']"
   ]
  },
  {
   "cell_type": "code",
   "execution_count": 30,
   "id": "5e82f00f",
   "metadata": {},
   "outputs": [
    {
     "data": {
      "text/plain": [
       "0       511111019862\n",
       "1       511111519928\n",
       "2       511111819905\n",
       "3       511111519874\n",
       "4       511111319917\n",
       "            ...     \n",
       "1162    511111116752\n",
       "1163    511111706328\n",
       "1164    511111416173\n",
       "1165    511111400608\n",
       "1166    511111019930\n",
       "Name: barcode, Length: 1167, dtype: object"
      ]
     },
     "execution_count": 30,
     "metadata": {},
     "output_type": "execute_result"
    }
   ],
   "source": [
    "brands['barcode']"
   ]
  },
  {
   "cell_type": "code",
   "execution_count": 31,
   "id": "ed725a9d",
   "metadata": {},
   "outputs": [
    {
     "name": "stdout",
     "output_type": "stream",
     "text": [
      "There are 58.14% null barcode in itemslist.\n"
     ]
    }
   ],
   "source": [
    "PerNullbarcodeItemslist = round(100*Itemslist['barcode'].isnull().sum()/len(Itemslist),2)\n",
    "print('There are %s%s null barcode in itemslist.' % (PerNullbarcodeItemslist,'%'))"
   ]
  },
  {
   "cell_type": "code",
   "execution_count": 32,
   "id": "1ca78919",
   "metadata": {},
   "outputs": [
    {
     "name": "stdout",
     "output_type": "stream",
     "text": [
      "After merging Itemslist with brand, there are only 89 matching barcode.\n"
     ]
    }
   ],
   "source": [
    "barcode_issues = pd.merge(left = Itemslist, right = brands,how = 'inner', on = ['barcode'])\n",
    "print('After merging Itemslist with brand, there are only %s matching barcode.' %len(barcode_issues))"
   ]
  },
  {
   "cell_type": "code",
   "execution_count": 33,
   "id": "5a5536a3",
   "metadata": {},
   "outputs": [
    {
     "name": "stdout",
     "output_type": "stream",
     "text": [
      "There are 569 unique barcode in Itemslist.\n"
     ]
    }
   ],
   "source": [
    "print('There are %s unique barcode in Itemslist.' %len(Itemslist['barcode'].unique()))"
   ]
  },
  {
   "cell_type": "code",
   "execution_count": 38,
   "id": "a52a4eb9",
   "metadata": {},
   "outputs": [
    {
     "name": "stdout",
     "output_type": "stream",
     "text": [
      "There are only 15.64% of barcode in itemslist can be found in brands data.\n"
     ]
    }
   ],
   "source": [
    "PerBarcodeMatch = round(100*len(barcode_issues)/len(Itemslist['barcode'].unique()),2)\n",
    "print('There are only %s%s of barcode in itemslist can be found in brands data.' % (PerBarcodeMatch,'%'))"
   ]
  },
  {
   "cell_type": "code",
   "execution_count": null,
   "id": "c3209f2d",
   "metadata": {},
   "outputs": [],
   "source": [
    "# User"
   ]
  },
  {
   "cell_type": "code",
   "execution_count": 40,
   "id": "781ec5a2",
   "metadata": {},
   "outputs": [],
   "source": [
    "users_issue = []\n",
    "for i in receipts['userId'].unique():\n",
    "    if i not in users['userId'].unique():\n",
    "        users_issue.append(i)"
   ]
  },
  {
   "cell_type": "code",
   "execution_count": 41,
   "id": "ab1a9c72",
   "metadata": {},
   "outputs": [
    {
     "name": "stdout",
     "output_type": "stream",
     "text": [
      "117 users by receipts scanned are not found in users table.\n"
     ]
    }
   ],
   "source": [
    "print('%d users by receipts scanned are not found in users table.' %len(users_issue))"
   ]
  },
  {
   "cell_type": "code",
   "execution_count": null,
   "id": "7596ed1c",
   "metadata": {},
   "outputs": [],
   "source": [
    "#one to many relationship between brand ID and barcode?"
   ]
  },
  {
   "cell_type": "code",
   "execution_count": 44,
   "id": "483ac240",
   "metadata": {},
   "outputs": [
    {
     "name": "stdout",
     "output_type": "stream",
     "text": [
      "There are 1160 unique barcodes and 1167 unqiue brandIds in merged dataset.\n"
     ]
    }
   ],
   "source": [
    "print('There are %d unique barcodes and %d unqiue brandIds in merged dataset.' %(len(brands['barcode'].unique()),len(brands['brandId'].unique())))"
   ]
  },
  {
   "cell_type": "code",
   "execution_count": 50,
   "id": "28a9ae76",
   "metadata": {},
   "outputs": [],
   "source": [
    "test1 = brands[['brandId','barcode']].groupby(['brandId','barcode']).agg('count').reset_index()\n",
    "b1 = test1['barcode'].tolist()\n",
    "\n",
    "test2 = brands[['brandId','barcode']].groupby(['barcode']).agg('count').reset_index()\n",
    "b2 = test2['barcode'].tolist()"
   ]
  },
  {
   "cell_type": "code",
   "execution_count": 51,
   "id": "eab02cc2",
   "metadata": {},
   "outputs": [],
   "source": [
    "dict1= {}\n",
    "for i in b1:\n",
    "    dict1[i] = dict1.get(i,0)+1\n",
    "def get_key(d):\n",
    "    return [k for k, v in d.items() if v > 1]"
   ]
  },
  {
   "cell_type": "code",
   "execution_count": 52,
   "id": "fdaad910",
   "metadata": {},
   "outputs": [
    {
     "name": "stdout",
     "output_type": "stream",
     "text": [
      "Theses barcode has more than one brand Id ['511111504139', '511111704140', '511111504788', '511111004790', '511111204923', '511111605058', '511111305125']\n"
     ]
    }
   ],
   "source": [
    "print('Theses barcode has more than one brand Id', get_key(dict1))"
   ]
  },
  {
   "cell_type": "code",
   "execution_count": 53,
   "id": "2f6ffaa2",
   "metadata": {},
   "outputs": [
    {
     "data": {
      "text/html": [
       "<div>\n",
       "<style scoped>\n",
       "    .dataframe tbody tr th:only-of-type {\n",
       "        vertical-align: middle;\n",
       "    }\n",
       "\n",
       "    .dataframe tbody tr th {\n",
       "        vertical-align: top;\n",
       "    }\n",
       "\n",
       "    .dataframe thead th {\n",
       "        text-align: right;\n",
       "    }\n",
       "</style>\n",
       "<table border=\"1\" class=\"dataframe\">\n",
       "  <thead>\n",
       "    <tr style=\"text-align: right;\">\n",
       "      <th></th>\n",
       "      <th>brandId</th>\n",
       "      <th>barcode</th>\n",
       "      <th>category</th>\n",
       "      <th>categoryCode</th>\n",
       "      <th>name</th>\n",
       "      <th>topBrand</th>\n",
       "      <th>brandCode</th>\n",
       "      <th>oid</th>\n",
       "      <th>ref</th>\n",
       "    </tr>\n",
       "  </thead>\n",
       "  <tbody>\n",
       "    <tr>\n",
       "      <th>129</th>\n",
       "      <td>5a7e0604e4b0aedb3b84afd3</td>\n",
       "      <td>511111504139</td>\n",
       "      <td>Beverages</td>\n",
       "      <td>NaN</td>\n",
       "      <td>Chris Brand XYZ</td>\n",
       "      <td>NaN</td>\n",
       "      <td>CHRISXYZ</td>\n",
       "      <td>55b62995e4b0d8e685c14213</td>\n",
       "      <td>Cogs</td>\n",
       "    </tr>\n",
       "    <tr>\n",
       "      <th>299</th>\n",
       "      <td>5a8c33f3e4b07f0a2dac8943</td>\n",
       "      <td>511111504139</td>\n",
       "      <td>Grocery</td>\n",
       "      <td>NaN</td>\n",
       "      <td>Pace</td>\n",
       "      <td>0.0</td>\n",
       "      <td>PACE</td>\n",
       "      <td>5a734034e4b0d58f376be874</td>\n",
       "      <td>Cogs</td>\n",
       "    </tr>\n",
       "  </tbody>\n",
       "</table>\n",
       "</div>"
      ],
      "text/plain": [
       "                      brandId       barcode   category categoryCode  \\\n",
       "129  5a7e0604e4b0aedb3b84afd3  511111504139  Beverages          NaN   \n",
       "299  5a8c33f3e4b07f0a2dac8943  511111504139    Grocery          NaN   \n",
       "\n",
       "                name  topBrand brandCode                       oid   ref  \n",
       "129  Chris Brand XYZ       NaN  CHRISXYZ  55b62995e4b0d8e685c14213  Cogs  \n",
       "299             Pace       0.0      PACE  5a734034e4b0d58f376be874  Cogs  "
      ]
     },
     "execution_count": 53,
     "metadata": {},
     "output_type": "execute_result"
    }
   ],
   "source": [
    "brands[brands['barcode']=='511111504139']"
   ]
  },
  {
   "cell_type": "code",
   "execution_count": null,
   "id": "3b7fcb5d",
   "metadata": {},
   "outputs": [],
   "source": [
    "#Missing value"
   ]
  },
  {
   "cell_type": "code",
   "execution_count": 54,
   "id": "211006ee",
   "metadata": {},
   "outputs": [
    {
     "data": {
      "text/plain": [
       "receiptId                    0\n",
       "bonusPointsEarned          575\n",
       "bonusPointsEarnedReason    575\n",
       "createDate                   0\n",
       "dateScanned                  0\n",
       "finishedDate               551\n",
       "modifyDate                   0\n",
       "pointsAwardedDate          582\n",
       "pointsEarned               510\n",
       "purchaseDate               448\n",
       "purchasedItemCount         484\n",
       "rewardsReceiptStatus         0\n",
       "totalSpent                 435\n",
       "userId                       0\n",
       "dtype: int64"
      ]
     },
     "execution_count": 54,
     "metadata": {},
     "output_type": "execute_result"
    }
   ],
   "source": [
    "receipts.isnull().sum()"
   ]
  },
  {
   "cell_type": "code",
   "execution_count": 55,
   "id": "bb16776e",
   "metadata": {},
   "outputs": [
    {
     "data": {
      "text/plain": [
       "userId           0\n",
       "active           0\n",
       "createdDate      0\n",
       "lastLogin       62\n",
       "role             0\n",
       "signUpSource    48\n",
       "state           56\n",
       "dtype: int64"
      ]
     },
     "execution_count": 55,
     "metadata": {},
     "output_type": "execute_result"
    }
   ],
   "source": [
    "users.isnull().sum()"
   ]
  },
  {
   "cell_type": "code",
   "execution_count": 56,
   "id": "cb11d456",
   "metadata": {},
   "outputs": [
    {
     "data": {
      "text/plain": [
       "group                                    0\n",
       "receiptId                                0\n",
       "userId                                   0\n",
       "barcode                               4291\n",
       "description                            821\n",
       "finalPrice                             614\n",
       "itemPrice                              614\n",
       "needsFetchReview                      6568\n",
       "partnerItemId                          440\n",
       "preventTargetGapPoints                7023\n",
       "quantityPurchased                      614\n",
       "userFlaggedBarcode                    7044\n",
       "userFlaggedNewItem                    7058\n",
       "userFlaggedPrice                      7082\n",
       "userFlaggedQuantity                   7082\n",
       "needsFetchReviewReason                7162\n",
       "pointsNotAwardedReason                7041\n",
       "pointsPayerId                         6114\n",
       "rewardsGroup                          5650\n",
       "rewardsProductPartnerId               5112\n",
       "userFlaggedDescription                7176\n",
       "originalMetaBriteBarcode              7310\n",
       "originalMetaBriteDescription          7371\n",
       "brandCode                             4781\n",
       "competitorRewardsGroup                7106\n",
       "discountedItemPrice                   1612\n",
       "originalReceiptItemText               1621\n",
       "itemNumber                            7228\n",
       "originalMetaBriteQuantityPurchased    7366\n",
       "pointsEarned                          6454\n",
       "targetPrice                           7003\n",
       "competitiveProduct                    6736\n",
       "originalFinalPrice                    7372\n",
       "originalMetaBriteItemPrice            7372\n",
       "deleted                               7372\n",
       "priceAfterCoupon                      6425\n",
       "metabriteCampaignId                   6518\n",
       "dtype: int64"
      ]
     },
     "execution_count": 56,
     "metadata": {},
     "output_type": "execute_result"
    }
   ],
   "source": [
    "Itemslist.isnull().sum()"
   ]
  },
  {
   "cell_type": "code",
   "execution_count": 57,
   "id": "ab1b4f7f",
   "metadata": {},
   "outputs": [
    {
     "data": {
      "text/plain": [
       "brandId           0\n",
       "barcode           0\n",
       "category        155\n",
       "categoryCode    650\n",
       "name              0\n",
       "topBrand        612\n",
       "brandCode       234\n",
       "oid               0\n",
       "ref               0\n",
       "dtype: int64"
      ]
     },
     "execution_count": 57,
     "metadata": {},
     "output_type": "execute_result"
    }
   ],
   "source": [
    "brands.isnull().sum()"
   ]
  },
  {
   "cell_type": "code",
   "execution_count": null,
   "id": "fd41cb65",
   "metadata": {},
   "outputs": [],
   "source": [
    "#Outliers"
   ]
  },
  {
   "cell_type": "code",
   "execution_count": 60,
   "id": "873e1359",
   "metadata": {},
   "outputs": [
    {
     "data": {
      "image/png": "[encoded data removed]",
      "text/plain": [
       "<Figure size 432x288 with 1 Axes>"
      ]
     },
     "metadata": {
      "needs_background": "light"
     },
     "output_type": "display_data"
    }
   ],
   "source": [
    "boxplot_r = receipts.boxplot(column = ['bonusPointsEarned', 'pointsEarned','purchasedItemCount','totalSpent'])"
   ]
  },
  {
   "cell_type": "code",
   "execution_count": 61,
   "id": "b6a2e7b5",
   "metadata": {},
   "outputs": [
    {
     "data": {
      "image/png": "[encoded data removed]",
      "text/plain": [
       "<Figure size 432x288 with 1 Axes>"
      ]
     },
     "metadata": {
      "needs_background": "light"
     },
     "output_type": "display_data"
    }
   ],
   "source": [
    "boxplot_i = Itemslist.boxplot(column = ['quantityPurchased'])"
   ]
  },
  {
   "cell_type": "code",
   "execution_count": null,
   "id": "57e601d8",
   "metadata": {},
   "outputs": [],
   "source": [
    "#Duplicated records"
   ]
  },
  {
   "cell_type": "code",
   "execution_count": 62,
   "id": "8959971a",
   "metadata": {},
   "outputs": [
    {
     "data": {
      "text/plain": [
       "False    1119\n",
       "dtype: int64"
      ]
     },
     "execution_count": 62,
     "metadata": {},
     "output_type": "execute_result"
    }
   ],
   "source": [
    "receipts.duplicated().value_counts()"
   ]
  },
  {
   "cell_type": "code",
   "execution_count": 63,
   "id": "0f192139",
   "metadata": {},
   "outputs": [
    {
     "data": {
      "text/plain": [
       "True     283\n",
       "False    212\n",
       "dtype: int64"
      ]
     },
     "execution_count": 63,
     "metadata": {},
     "output_type": "execute_result"
    }
   ],
   "source": [
    "users.duplicated().value_counts()"
   ]
  },
  {
   "cell_type": "code",
   "execution_count": 64,
   "id": "843a777a",
   "metadata": {},
   "outputs": [
    {
     "data": {
      "text/plain": [
       "False    7381\n",
       "dtype: int64"
      ]
     },
     "execution_count": 64,
     "metadata": {},
     "output_type": "execute_result"
    }
   ],
   "source": [
    "Itemslist.duplicated().value_counts()"
   ]
  },
  {
   "cell_type": "code",
   "execution_count": 65,
   "id": "85866982",
   "metadata": {},
   "outputs": [
    {
     "data": {
      "text/plain": [
       "False    1167\n",
       "dtype: int64"
      ]
     },
     "execution_count": 65,
     "metadata": {},
     "output_type": "execute_result"
    }
   ],
   "source": [
    "brands.duplicated().value_counts()"
   ]
  }
 ],
 "metadata": {
  "kernelspec": {
   "display_name": "Python 3 (ipykernel)",
   "language": "python",
   "name": "python3"
  },
  "language_info": {
   "codemirror_mode": {
    "name": "ipython",
    "version": 3
   },
   "file_extension": ".py",
   "mimetype": "text/x-python",
   "name": "python",
   "nbconvert_exporter": "python",
   "pygments_lexer": "ipython3",
   "version": "3.9.7"
  }
 },
 "nbformat": 4,
 "nbformat_minor": 5
}
